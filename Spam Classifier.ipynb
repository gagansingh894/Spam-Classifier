{
 "cells": [
  {
   "cell_type": "code",
   "execution_count": 155,
   "metadata": {},
   "outputs": [],
   "source": [
    "import pandas as pd\n",
    "import nltk\n",
    "from nltk.corpus import stopwords\n",
    "from nltk.stem import PorterStemmer, WordNetLemmatizer\n",
    "import seaborn as sns\n",
    "import matplotlib.pyplot as plt\n",
    "import re\n",
    "from sklearn.feature_extraction.text import CountVectorizer\n",
    "from sklearn.feature_extraction.text import TfidfVectorizer\n",
    "from sklearn.model_selection import train_test_split\n",
    "from sklearn.tree import DecisionTreeClassifier\n",
    "from sklearn.svm import SVC\n",
    "from sklearn.neighbors import KNeighborsClassifier\n",
    "from sklearn.ensemble import RandomForestClassifier\n",
    "from sklearn.linear_model import LogisticRegression\n",
    "from sklearn.naive_bayes import MultinomialNB, GaussianNB\n",
    "from sklearn.ensemble import GradientBoostingClassifier, AdaBoostClassifier\n",
    "import xgboost as xgb\n",
    "import lightgbm as lgb\n",
    "from sklearn.model_selection import cross_val_score\n",
    "from sklearn.metrics import classification_report, roc_auc_score"
   ]
  },
  {
   "cell_type": "code",
   "execution_count": 40,
   "metadata": {},
   "outputs": [],
   "source": [
    "# Read Data\n",
    "path = r'D:\\Work\\Datasets\\smsspamcollection'\n",
    "data = pd.read_csv(path + r'\\SMSSpamCollection', sep='\\t', names=['label', 'text'])/"
   ]
  },
  {
   "cell_type": "code",
   "execution_count": 5,
   "metadata": {},
   "outputs": [
    {
     "data": {
      "text/plain": [
       "([<matplotlib.patches.Wedge at 0x163612a54e0>,\n",
       "  <matplotlib.patches.Wedge at 0x163612a5e80>],\n",
       " [Text(-0.44971325876899215, -1.0038714981945516, 'ham'),\n",
       "  Text(0.4905963335602993, 1.095132520518495, 'spam')],\n",
       " [Text(-0.24529814114672294, -0.5475662717424826, '86.6%'),\n",
       "  Text(0.2861811945768412, 0.6388273036357887, '13.4%')])"
      ]
     },
     "execution_count": 5,
     "metadata": {},
     "output_type": "execute_result"
    },
    {
     "data": {
      "image/png": "[encoded data removed]",
      "text/plain": [
       "<Figure size 432x288 with 1 Axes>"
      ]
     },
     "metadata": {
      "needs_background": "light"
     },
     "output_type": "display_data"
    },
    {
     "data": {
      "image/png": "[encoded data removed]",
      "text/plain": [
       "<Figure size 432x288 with 1 Axes>"
      ]
     },
     "metadata": {},
     "output_type": "display_data"
    }
   ],
   "source": [
    "# Basic Stats\n",
    "data['label'].value_counts()\n",
    "sns.countplot(data['label'])\n",
    "\n",
    "fig1, ax1 = plt.subplots()\n",
    "ax1.pie(data['label'].value_counts(), explode=(0,0.1), labels=data['label'].unique(), autopct='%1.1f%%', shadow=True, startangle=90)"
   ]
  },
  {
   "cell_type": "markdown",
   "metadata": {},
   "source": [
    "###### In the above visualizations, we clearly see that data is imbalanced. Hence, when evaluating the models, accuracy metric may present  biased results and thus can not be considered as a sole metric for evaluation. We will use confusion matrix, recall, precesion, f1-score and ROC-AUC curve. "
   ]
  },
  {
   "cell_type": "markdown",
   "metadata": {},
   "source": [
    "### Preprocessing"
   ]
  },
  {
   "cell_type": "code",
   "execution_count": 28,
   "metadata": {
    "collapsed": true
   },
   "outputs": [
    {
     "ename": "NameError",
     "evalue": "name 'X_train' is not defined",
     "output_type": "error",
     "traceback": [
      "\u001b[1;31m---------------------------------------------------------------------------\u001b[0m",
      "\u001b[1;31mNameError\u001b[0m                                 Traceback (most recent call last)",
      "\u001b[1;32m<ipython-input-28-d90650295e96>\u001b[0m in \u001b[0;36m<module>\u001b[1;34m\u001b[0m\n\u001b[0;32m      1\u001b[0m \u001b[1;31m# Let us first clean the text\u001b[0m\u001b[1;33m\u001b[0m\u001b[1;33m\u001b[0m\u001b[1;33m\u001b[0m\u001b[0m\n\u001b[1;32m----> 2\u001b[1;33m \u001b[0mX_train\u001b[0m \u001b[1;33m=\u001b[0m \u001b[0mX_train\u001b[0m\u001b[1;33m.\u001b[0m\u001b[0mstr\u001b[0m\u001b[1;33m.\u001b[0m\u001b[0mreplace\u001b[0m\u001b[1;33m(\u001b[0m\u001b[1;34m'[^a-zA-Z]'\u001b[0m\u001b[1;33m,\u001b[0m \u001b[1;34m' '\u001b[0m\u001b[1;33m,\u001b[0m \u001b[0mcase\u001b[0m\u001b[1;33m=\u001b[0m\u001b[1;32mFalse\u001b[0m\u001b[1;33m)\u001b[0m \u001b[1;31m# replace special characters and numbers with blanks\u001b[0m\u001b[1;33m\u001b[0m\u001b[1;33m\u001b[0m\u001b[0m\n\u001b[0m\u001b[0;32m      3\u001b[0m \u001b[0mX_train\u001b[0m \u001b[1;33m=\u001b[0m \u001b[0mX_train\u001b[0m\u001b[1;33m.\u001b[0m\u001b[0mstr\u001b[0m\u001b[1;33m.\u001b[0m\u001b[0mlower\u001b[0m\u001b[1;33m(\u001b[0m\u001b[1;33m)\u001b[0m \u001b[1;31m#convert to lower case\u001b[0m\u001b[1;33m\u001b[0m\u001b[1;33m\u001b[0m\u001b[0m\n\u001b[0;32m      4\u001b[0m \u001b[1;31m#X_train['text'] = X_train['text'].split()\u001b[0m\u001b[1;33m\u001b[0m\u001b[1;33m\u001b[0m\u001b[1;33m\u001b[0m\u001b[0m\n\u001b[0;32m      5\u001b[0m \u001b[0mps\u001b[0m \u001b[1;33m=\u001b[0m \u001b[0mPorterStemmer\u001b[0m\u001b[1;33m(\u001b[0m\u001b[1;33m)\u001b[0m\u001b[1;33m\u001b[0m\u001b[1;33m\u001b[0m\u001b[0m\n",
      "\u001b[1;31mNameError\u001b[0m: name 'X_train' is not defined"
     ]
    }
   ],
   "source": [
    "# Let us first clean the text\n",
    "X_train = X_train.str.replace('[^a-zA-Z]', ' ', case=False) # replace special characters and numbers with blanks\n",
    "X_train = X_train.str.lower() #convert to lower case\n",
    "#X_train['text'] = X_train['text'].split()\n",
    "ps = PorterStemmer()\n",
    "X_train = X_train.apply(lambda x: [ps.stem(word) for word in X_train.str.split() if word not in stopwords.words('english')])"
   ]
  },
  {
   "cell_type": "code",
   "execution_count": 47,
   "metadata": {},
   "outputs": [],
   "source": [
    "# Cleaning text\n",
    "processed_txt = []\n",
    "for i in range(len(data)):\n",
    "    msg = re.sub('[^a-zA-Z]', ' ', data['text'][i]).lower().split()\n",
    "    ps = PorterStemmer()\n",
    "    msg = [ps.stem(word) for word in msg if word not in set(stopwords.words('english'))]\n",
    "    msg = ' '.join(msg)\n",
    "    processed_txt.append(msg)"
   ]
  },
  {
   "cell_type": "code",
   "execution_count": 49,
   "metadata": {},
   "outputs": [],
   "source": [
    "# Create bag of words model and tf-idf model\n",
    "#bag of words\n",
    "cv = CountVectorizer()\n",
    "X_bow = cv.fit_transform(processed_txt).toarray()\n",
    "\n",
    "#TFIDF\n",
    "tfv = TfidfVectorizer()\n",
    "X_tfidf = tfv.fit_transform(processed_txt).toarray()"
   ]
  },
  {
   "cell_type": "markdown",
   "metadata": {},
   "source": [
    "### Splitting the data into train and test"
   ]
  },
  {
   "cell_type": "code",
   "execution_count": 123,
   "metadata": {},
   "outputs": [],
   "source": [
    "X_bow_train, X_bow_test, y_bow_train, y_bow_test = train_test_split(X_bow,data.iloc[:,0], test_size=0.2, random_state=42, stratify=data['label'])\n",
    "y_bow_train = y_bow_train.map({'ham':0, 'spam':1}).values\n",
    "y_bow_test = y_bow_test.map({'ham':0, 'spam':1}).values\n",
    "\n",
    "X_tfidf_train, X_tfidf_test, y_tfidf_train, y_tfidf_test = train_test_split(X_tfidf,data.iloc[:,0], test_size=0.2, random_state=42, stratify=data['label'])\n",
    "y_tfidf_train = y_tfidf_train.map({'ham':0, 'spam':1}).values\n",
    "y_tfidf_test = y_tfidf_test.map({'ham':0, 'spam':1}).values"
   ]
  },
  {
   "cell_type": "markdown",
   "metadata": {},
   "source": [
    "### Modelling"
   ]
  },
  {
   "cell_type": "code",
   "execution_count": 125,
   "metadata": {},
   "outputs": [],
   "source": [
    "# Decison Tree\n",
    "dt_model_bow = DecisionTreeClassifier()\n",
    "dt_model_tfidf = DecisionTreeClassifier()\n",
    "\n",
    "dt_model_bow.fit(X_bow_train, y_bow_train)\n",
    "dt_model_tfidf.fit(X_tfidf_train, y_tfidf_train)\n",
    "\n",
    "dt_pred_bow = dt_model_bow.predict(X_bow_test)\n",
    "dt_pred_tfidf = dt_model_tfidf.predict(X_tfidf_test)"
   ]
  },
  {
   "cell_type": "code",
   "execution_count": 126,
   "metadata": {},
   "outputs": [
    {
     "name": "stdout",
     "output_type": "stream",
     "text": [
      "CLASSIFIACTION REPORT - BAG OF WORDS\n",
      "              precision    recall  f1-score   support\n",
      "\n",
      "           0       0.98      0.99      0.98       966\n",
      "           1       0.93      0.86      0.90       149\n",
      "\n",
      "    accuracy                           0.97      1115\n",
      "   macro avg       0.96      0.92      0.94      1115\n",
      "weighted avg       0.97      0.97      0.97      1115\n",
      "\n",
      "\n",
      "CLASSIFIACTION REPORT - TFIDF\n",
      "              precision    recall  f1-score   support\n",
      "\n",
      "           0       0.98      0.99      0.98       966\n",
      "           1       0.90      0.88      0.89       149\n",
      "\n",
      "    accuracy                           0.97      1115\n",
      "   macro avg       0.94      0.93      0.94      1115\n",
      "weighted avg       0.97      0.97      0.97      1115\n",
      "\n"
     ]
    }
   ],
   "source": [
    "print('CLASSIFIACTION REPORT - BAG OF WORDS')\n",
    "print(classification_report(y_bow_test,dt_pred_bow))\n",
    "print(roc_auc_score(y_bow_test,dt_pred_bow))\n",
    "print()\n",
    "print('CLASSIFIACTION REPORT - TFIDF')\n",
    "print(classification_report(y_tfidf_test,dt_pred_tfidf))\n",
    "print(roc_auc_score(y_tfidf_test,dt_pred_tfidf))\n"
   ]
  },
  {
   "cell_type": "code",
   "execution_count": 127,
   "metadata": {},
   "outputs": [],
   "source": [
    "#Support Vector Machines\n",
    "svm_model_bow = SVC()\n",
    "svm_model_tfidf = SVC()\n",
    "\n",
    "svm_model_bow.fit(X_bow_train, y_tfidf_train)\n",
    "svm_model_tfidf.fit(X_tfidf_train, y_tfidf_train)\n",
    "\n",
    "#train\n",
    "svm_pred_bow_tr = svm_model_bow.predict(X_bow_train)\n",
    "svm_pred_tfidf_tr = svm_model_tfidf.predict(X_tfidf_train)\n",
    "\n",
    "#test\n",
    "svm_pred_bow_ts = svm_model_bow.predict(X_bow_test)\n",
    "svm_pred_tfidf_ts = svm_model_tfidf.predict(X_tfidf_test)"
   ]
  },
  {
   "cell_type": "code",
   "execution_count": 128,
   "metadata": {},
   "outputs": [
    {
     "name": "stdout",
     "output_type": "stream",
     "text": [
      "CLASSIFIACTION REPORT - BAG OF WORDS - TRAINING DATA\n",
      "              precision    recall  f1-score   support\n",
      "\n",
      "           0       1.00      1.00      1.00      3859\n",
      "           1       1.00      0.98      0.99       598\n",
      "\n",
      "    accuracy                           1.00      4457\n",
      "   macro avg       1.00      0.99      0.99      4457\n",
      "weighted avg       1.00      1.00      1.00      4457\n",
      "\n",
      "0.9891304347826086\n",
      "\n",
      "CLASSIFIACTION REPORT - TFIDF TRAINING DATA\n",
      "              precision    recall  f1-score   support\n",
      "\n",
      "           0       1.00      1.00      1.00      3859\n",
      "           1       1.00      0.98      0.99       598\n",
      "\n",
      "    accuracy                           1.00      4457\n",
      "   macro avg       1.00      0.99      0.99      4457\n",
      "weighted avg       1.00      1.00      1.00      4457\n",
      "\n",
      "0.9908026755852843\n",
      "\n",
      "CLASSIFIACTION REPORT - BAG OF WORDS - TEST DATA\n",
      "              precision    recall  f1-score   support\n",
      "\n",
      "           0       0.97      1.00      0.99       966\n",
      "           1       1.00      0.83      0.91       149\n",
      "\n",
      "    accuracy                           0.98      1115\n",
      "   macro avg       0.99      0.92      0.95      1115\n",
      "weighted avg       0.98      0.98      0.98      1115\n",
      "\n",
      "0.9161073825503356\n",
      "\n",
      "CLASSIFIACTION REPORT - TFIDF TEST DATA\n",
      "              precision    recall  f1-score   support\n",
      "\n",
      "           0       0.97      1.00      0.99       966\n",
      "           1       0.99      0.82      0.90       149\n",
      "\n",
      "    accuracy                           0.97      1115\n",
      "   macro avg       0.98      0.91      0.94      1115\n",
      "weighted avg       0.98      0.97      0.97      1115\n",
      "\n",
      "0.908878374810677\n"
     ]
    }
   ],
   "source": [
    "print('CLASSIFIACTION REPORT - BAG OF WORDS - TRAINING DATA')\n",
    "print(classification_report(y_bow_train,svm_pred_bow_tr))\n",
    "print(roc_auc_score(y_bow_train,svm_pred_bow_tr))\n",
    "print()\n",
    "print('CLASSIFIACTION REPORT - TFIDF - TRAINING DATA')\n",
    "print(classification_report(y_tfidf_train,svm_pred_tfidf_tr))\n",
    "print(roc_auc_score(y_tfidf_train,svm_pred_tfidf_tr))\n",
    "print()\n",
    "print('CLASSIFIACTION REPORT - BAG OF WORDS - TEST DATA')\n",
    "print(classification_report(y_bow_test,svm_pred_bow_ts))\n",
    "print(roc_auc_score(y_bow_test,svm_pred_bow_ts))\n",
    "print()\n",
    "print('CLASSIFIACTION REPORT - TFIDF - TEST DATA')\n",
    "print(classification_report(y_tfidf_test,svm_pred_tfidf_ts))\n",
    "print(roc_auc_score(y_tfidf_test,svm_pred_tfidf_ts))"
   ]
  },
  {
   "cell_type": "code",
   "execution_count": 132,
   "metadata": {},
   "outputs": [],
   "source": [
    "#KNN\n",
    "knn_model_bow = KNeighborsClassifier()\n",
    "knn_model_tfidf = KNeighborsClassifier()\n",
    "\n",
    "knn_model_bow.fit(X_bow_train, y_bow_train)\n",
    "knn_model_tfidf.fit(X_tfidf_train, y_tfidf_train)\n",
    "\n",
    "#train\n",
    "knn_pred_bow_tr = knn_model_bow.predict(X_bow_train)\n",
    "knn_pred_tfidf_tr = knn_model_tfidf.predict(X_tfidf_train)\n",
    "\n",
    "#test\n",
    "knn_pred_bow_ts = knn_model_bow.predict(X_bow_test)\n",
    "knn_pred_tfidf_ts = knn_model_tfidf.predict(X_tfidf_test)\n"
   ]
  },
  {
   "cell_type": "code",
   "execution_count": 133,
   "metadata": {},
   "outputs": [
    {
     "name": "stdout",
     "output_type": "stream",
     "text": [
      "CLASSIFIACTION REPORT - BAG OF WORDS - TRAINING DATA\n",
      "              precision    recall  f1-score   support\n",
      "\n",
      "           0       0.93      1.00      0.96      3859\n",
      "           1       1.00      0.53      0.69       598\n",
      "\n",
      "    accuracy                           0.94      4457\n",
      "   macro avg       0.97      0.77      0.83      4457\n",
      "weighted avg       0.94      0.94      0.93      4457\n",
      "\n",
      "0.7650501672240803\n",
      "\n",
      "CLASSIFIACTION REPORT - TFIDF TRAINING DATA\n",
      "              precision    recall  f1-score   support\n",
      "\n",
      "           0       0.93      1.00      0.96      3859\n",
      "           1       1.00      0.48      0.65       598\n",
      "\n",
      "    accuracy                           0.93      4457\n",
      "   macro avg       0.96      0.74      0.80      4457\n",
      "weighted avg       0.94      0.93      0.92      4457\n",
      "\n",
      "0.7399665551839465\n",
      "\n",
      "CLASSIFIACTION REPORT - BAG OF WORDS - TEST DATA\n",
      "              precision    recall  f1-score   support\n",
      "\n",
      "           0       0.92      1.00      0.96       966\n",
      "           1       1.00      0.40      0.57       149\n",
      "\n",
      "    accuracy                           0.92      1115\n",
      "   macro avg       0.96      0.70      0.77      1115\n",
      "weighted avg       0.93      0.92      0.90      1115\n",
      "\n",
      "0.7013422818791946\n",
      "\n",
      "CLASSIFIACTION REPORT - TFIDF - TEST DATA\n",
      "              precision    recall  f1-score   support\n",
      "\n",
      "           0       0.91      1.00      0.95       966\n",
      "           1       1.00      0.38      0.55       149\n",
      "\n",
      "    accuracy                           0.92      1115\n",
      "   macro avg       0.96      0.69      0.75      1115\n",
      "weighted avg       0.92      0.92      0.90      1115\n",
      "\n",
      "0.6912751677852349\n"
     ]
    }
   ],
   "source": [
    "print('CLASSIFIACTION REPORT - BAG OF WORDS - TRAINING DATA')\n",
    "print(classification_report(y_bow_train,knn_pred_bow_tr))\n",
    "print(roc_auc_score(y_bow_train,knn_pred_bow_tr))\n",
    "print()\n",
    "print('CLASSIFIACTION REPORT - TFIDF - TRAINING DATA')\n",
    "print(classification_report(y_tfidf_train,knn_pred_tfidf_tr))\n",
    "print(roc_auc_score(y_tfidf_train,knn_pred_tfidf_tr))\n",
    "print()\n",
    "print('CLASSIFIACTION REPORT - BAG OF WORDS - TEST DATA')\n",
    "print(classification_report(y_bow_test,knn_pred_bow_ts))\n",
    "print(roc_auc_score(y_bow_test,knn_pred_bow_ts))\n",
    "print()\n",
    "print('CLASSIFIACTION REPORT - TFIDF - TEST DATA')\n",
    "print(classification_report(y_tfidf_test,knn_pred_tfidf_ts))\n",
    "print(roc_auc_score(y_tfidf_test,knn_pred_tfidf_ts))"
   ]
  },
  {
   "cell_type": "code",
   "execution_count": 137,
   "metadata": {},
   "outputs": [],
   "source": [
    "# Random Forest\n",
    "rf_model_bow = RandomForestClassifier()\n",
    "rf_model_tfidf = RandomForestClassifier()\n",
    "\n",
    "rf_model_bow.fit(X_bow_train, y_bow_train)\n",
    "rf_model_tfidf.fit(X_tfidf_train, y_tfidf_train)\n",
    "\n",
    "#train\n",
    "rf_pred_bow_tr = rf_model_bow.predict(X_bow_train)\n",
    "rf_pred_tfidf_tr = rf_model_tfidf.predict(X_tfidf_train)\n",
    "\n",
    "#test\n",
    "rf_pred_bow_ts = rf_model_bow.predict(X_bow_test)\n",
    "rf_pred_tfidf_ts = rf_model_tfidf.predict(X_tfidf_test)\n"
   ]
  },
  {
   "cell_type": "code",
   "execution_count": 138,
   "metadata": {},
   "outputs": [
    {
     "name": "stdout",
     "output_type": "stream",
     "text": [
      "CLASSIFIACTION REPORT - BAG OF WORDS - TRAINING DATA\n",
      "              precision    recall  f1-score   support\n",
      "\n",
      "           0       1.00      1.00      1.00      3859\n",
      "           1       1.00      1.00      1.00       598\n",
      "\n",
      "    accuracy                           1.00      4457\n",
      "   macro avg       1.00      1.00      1.00      4457\n",
      "weighted avg       1.00      1.00      1.00      4457\n",
      "\n",
      "1.0\n",
      "\n",
      "CLASSIFIACTION REPORT - TFIDF - TRAINING DATA\n",
      "              precision    recall  f1-score   support\n",
      "\n",
      "           0       1.00      1.00      1.00      3859\n",
      "           1       1.00      1.00      1.00       598\n",
      "\n",
      "    accuracy                           1.00      4457\n",
      "   macro avg       1.00      1.00      1.00      4457\n",
      "weighted avg       1.00      1.00      1.00      4457\n",
      "\n",
      "1.0\n",
      "\n",
      "CLASSIFIACTION REPORT - BAG OF WORDS - TEST DATA\n",
      "              precision    recall  f1-score   support\n",
      "\n",
      "           0       0.97      1.00      0.98       966\n",
      "           1       1.00      0.78      0.88       149\n",
      "\n",
      "    accuracy                           0.97      1115\n",
      "   macro avg       0.98      0.89      0.93      1115\n",
      "weighted avg       0.97      0.97      0.97      1115\n",
      "\n",
      "0.889261744966443\n",
      "\n",
      "CLASSIFIACTION REPORT - TFIDF - TEST DATA\n",
      "              precision    recall  f1-score   support\n",
      "\n",
      "           0       0.97      1.00      0.98       966\n",
      "           1       1.00      0.79      0.88       149\n",
      "\n",
      "    accuracy                           0.97      1115\n",
      "   macro avg       0.98      0.89      0.93      1115\n",
      "weighted avg       0.97      0.97      0.97      1115\n",
      "\n",
      "0.8926174496644295\n"
     ]
    }
   ],
   "source": [
    "print('CLASSIFIACTION REPORT - BAG OF WORDS - TRAINING DATA')\n",
    "print(classification_report(y_bow_train,rf_pred_bow_tr))\n",
    "print(roc_auc_score(y_bow_train,rf_pred_bow_tr))\n",
    "print()\n",
    "print('CLASSIFIACTION REPORT - TFIDF - TRAINING DATA')\n",
    "print(classification_report(y_tfidf_train,rf_pred_tfidf_tr))\n",
    "print(roc_auc_score(y_tfidf_train,rf_pred_tfidf_tr))\n",
    "print()\n",
    "print('CLASSIFIACTION REPORT - BAG OF WORDS - TEST DATA')\n",
    "print(classification_report(y_bow_test,rf_pred_bow_ts))\n",
    "print(roc_auc_score(y_bow_test,rf_pred_bow_ts))\n",
    "print()\n",
    "print('CLASSIFIACTION REPORT - TFIDF - TEST DATA')\n",
    "print(classification_report(y_tfidf_test,rf_pred_tfidf_ts))\n",
    "print(roc_auc_score(y_tfidf_test,rf_pred_tfidf_ts))"
   ]
  },
  {
   "cell_type": "code",
   "execution_count": 156,
   "metadata": {},
   "outputs": [],
   "source": [
    "#Naive Bayes\n",
    "nb_model_bow = MultinomialNB()\n",
    "nb_model_tfidf = GaussianNB()\n",
    "\n",
    "nb_model_bow.fit(X_bow_train, y_bow_train)\n",
    "nb_model_tfidf.fit(X_tfidf_train, y_tfidf_train)\n",
    "\n",
    "#train\n",
    "nb_pred_bow_tr = nb_model_bow.predict(X_bow_train)\n",
    "nb_pred_tfidf_tr = nb_model_tfidf.predict(X_tfidf_train)\n",
    "\n",
    "#test\n",
    "nb_pred_bow_ts = nb_model_bow.predict(X_bow_test)\n",
    "nb_pred_tfidf_ts = nb_model_tfidf.predict(X_tfidf_test)"
   ]
  },
  {
   "cell_type": "code",
   "execution_count": 157,
   "metadata": {},
   "outputs": [
    {
     "name": "stdout",
     "output_type": "stream",
     "text": [
      "CLASSIFIACTION REPORT - BAG OF WORDS - TRAINING DATA\n",
      "              precision    recall  f1-score   support\n",
      "\n",
      "           0       1.00      1.00      1.00      3859\n",
      "           1       0.97      0.97      0.97       598\n",
      "\n",
      "    accuracy                           0.99      4457\n",
      "   macro avg       0.98      0.98      0.98      4457\n",
      "weighted avg       0.99      0.99      0.99      4457\n",
      "\n",
      "0.9844194304067891\n",
      "\n",
      "CLASSIFIACTION REPORT - TFIDF - TRAINING DATA\n",
      "              precision    recall  f1-score   support\n",
      "\n",
      "           0       1.00      0.91      0.95      3859\n",
      "           1       0.62      1.00      0.77       598\n",
      "\n",
      "    accuracy                           0.92      4457\n",
      "   macro avg       0.81      0.95      0.86      4457\n",
      "weighted avg       0.95      0.92      0.93      4457\n",
      "\n",
      "0.9534853589012697\n",
      "\n",
      "CLASSIFIACTION REPORT - BAG OF WORDS - TEST DATA\n",
      "              precision    recall  f1-score   support\n",
      "\n",
      "           0       0.99      0.98      0.99       966\n",
      "           1       0.90      0.94      0.92       149\n",
      "\n",
      "    accuracy                           0.98      1115\n",
      "   macro avg       0.94      0.96      0.95      1115\n",
      "weighted avg       0.98      0.98      0.98      1115\n",
      "\n",
      "0.9615170842191559\n",
      "\n",
      "CLASSIFIACTION REPORT - TFIDF - TEST DATA\n",
      "              precision    recall  f1-score   support\n",
      "\n",
      "           0       0.97      0.86      0.91       966\n",
      "           1       0.48      0.85      0.61       149\n",
      "\n",
      "    accuracy                           0.85      1115\n",
      "   macro avg       0.72      0.85      0.76      1115\n",
      "weighted avg       0.91      0.85      0.87      1115\n",
      "\n",
      "0.8537107285283533\n"
     ]
    }
   ],
   "source": [
    "print('CLASSIFIACTION REPORT - BAG OF WORDS - TRAINING DATA')\n",
    "print(classification_report(y_bow_train,nb_pred_bow_tr))\n",
    "print(roc_auc_score(y_bow_train,nb_pred_bow_tr))\n",
    "print()\n",
    "print('CLASSIFIACTION REPORT - TFIDF - TRAINING DATA')\n",
    "print(classification_report(y_tfidf_train,nb_pred_tfidf_tr))\n",
    "print(roc_auc_score(y_tfidf_train,nb_pred_tfidf_tr))\n",
    "print()\n",
    "print('CLASSIFIACTION REPORT - BAG OF WORDS - TEST DATA')\n",
    "print(classification_report(y_bow_test,nb_pred_bow_ts))\n",
    "print(roc_auc_score(y_bow_test,nb_pred_bow_ts))\n",
    "print()\n",
    "print('CLASSIFIACTION REPORT - TFIDF - TEST DATA')\n",
    "print(classification_report(y_tfidf_test,nb_pred_tfidf_ts))\n",
    "print(roc_auc_score(y_tfidf_test,nb_pred_tfidf_ts))"
   ]
  },
  {
   "cell_type": "markdown",
   "metadata": {},
   "source": [
    "### Advance Models\n",
    "#### 1. Gradient Boosting\n",
    "#### 2. Adaboost\n",
    "#### 3. LGBoost\n",
    "#### 4. XGBoost"
   ]
  },
  {
   "cell_type": "code",
   "execution_count": 145,
   "metadata": {},
   "outputs": [],
   "source": [
    "#Gradient Boosting\n",
    "gb_model_bow = GradientBoostingClassifier()\n",
    "gb_model_tfidf = GradientBoostingClassifier()\n",
    "\n",
    "gb_model_bow.fit(X_bow_train, y_bow_train)\n",
    "gb_model_tfidf.fit(X_tfidf_train, y_tfidf_train)\n",
    "\n",
    "#train\n",
    "gb_pred_bow_tr = gb_model_bow.predict(X_bow_train)\n",
    "gb_pred_tfidf_tr = gb_model_tfidf.predict(X_tfidf_train)\n",
    "\n",
    "#test\n",
    "gb_pred_bow_ts = gb_model_bow.predict(X_bow_test)\n",
    "gb_pred_tfidf_ts = gb_model_tfidf.predict(X_tfidf_test)"
   ]
  },
  {
   "cell_type": "code",
   "execution_count": 146,
   "metadata": {},
   "outputs": [
    {
     "name": "stdout",
     "output_type": "stream",
     "text": [
      "CLASSIFIACTION REPORT - BAG OF WORDS - TRAINING DATA\n",
      "              precision    recall  f1-score   support\n",
      "\n",
      "           0       0.98      1.00      0.99      3859\n",
      "           1       1.00      0.85      0.92       598\n",
      "\n",
      "    accuracy                           0.98      4457\n",
      "   macro avg       0.99      0.92      0.95      4457\n",
      "weighted avg       0.98      0.98      0.98      4457\n",
      "\n",
      "0.9247491638795986\n",
      "\n",
      "CLASSIFIACTION REPORT - TFIDF - TRAINING DATA\n",
      "              precision    recall  f1-score   support\n",
      "\n",
      "           0       0.98      1.00      0.99      3859\n",
      "           1       1.00      0.88      0.94       598\n",
      "\n",
      "    accuracy                           0.98      4457\n",
      "   macro avg       0.99      0.94      0.96      4457\n",
      "weighted avg       0.98      0.98      0.98      4457\n",
      "\n",
      "0.9412124374155537\n",
      "\n",
      "CLASSIFIACTION REPORT - BAG OF WORDS - TEST DATA\n",
      "              precision    recall  f1-score   support\n",
      "\n",
      "           0       0.97      1.00      0.98       966\n",
      "           1       0.98      0.79      0.88       149\n",
      "\n",
      "    accuracy                           0.97      1115\n",
      "   macro avg       0.98      0.89      0.93      1115\n",
      "weighted avg       0.97      0.97      0.97      1115\n",
      "\n",
      "0.8949379576750455\n",
      "\n",
      "CLASSIFIACTION REPORT - TFIDF - TEST DATA\n",
      "              precision    recall  f1-score   support\n",
      "\n",
      "           0       0.97      1.00      0.98       966\n",
      "           1       0.98      0.79      0.87       149\n",
      "\n",
      "    accuracy                           0.97      1115\n",
      "   macro avg       0.98      0.89      0.93      1115\n",
      "weighted avg       0.97      0.97      0.97      1115\n",
      "\n",
      "0.8915822529770588\n"
     ]
    }
   ],
   "source": [
    "print('CLASSIFIACTION REPORT - BAG OF WORDS - TRAINING DATA')\n",
    "print(classification_report(y_bow_train,gb_pred_bow_tr))\n",
    "print(roc_auc_score(y_bow_train,gb_pred_bow_tr))\n",
    "print()\n",
    "print('CLASSIFIACTION REPORT - TFIDF - TRAINING DATA')\n",
    "print(classification_report(y_tfidf_train,gb_pred_tfidf_tr))\n",
    "print(roc_auc_score(y_tfidf_train,gb_pred_tfidf_tr))\n",
    "print()\n",
    "print('CLASSIFIACTION REPORT - BAG OF WORDS - TEST DATA')\n",
    "print(classification_report(y_bow_test,gb_pred_bow_ts))\n",
    "print(roc_auc_score(y_bow_test,gb_pred_bow_ts))\n",
    "print()\n",
    "print('CLASSIFIACTION REPORT - TFIDF - TEST DATA')\n",
    "print(classification_report(y_tfidf_test,gb_pred_tfidf_ts))\n",
    "print(roc_auc_score(y_tfidf_test,gb_pred_tfidf_ts))"
   ]
  },
  {
   "cell_type": "code",
   "execution_count": 149,
   "metadata": {},
   "outputs": [],
   "source": [
    "# Adaboost\n",
    "adb_model_bow = AdaBoostClassifier()\n",
    "adb_model_tfidf = AdaBoostClassifier()\n",
    "\n",
    "adb_model_bow.fit(X_bow_train, y_bow_train)\n",
    "adb_model_tfidf.fit(X_tfidf_train, y_tfidf_train)\n",
    "\n",
    "#train\n",
    "adb_pred_bow_tr = adb_model_bow.predict(X_bow_train)\n",
    "adb_pred_tfidf_tr = adb_model_tfidf.predict(X_tfidf_train)\n",
    "\n",
    "#test\n",
    "adb_pred_bow_ts = adb_model_bow.predict(X_bow_test)\n",
    "adb_pred_tfidf_ts = adb_model_tfidf.predict(X_tfidf_test)"
   ]
  },
  {
   "cell_type": "code",
   "execution_count": 150,
   "metadata": {},
   "outputs": [
    {
     "name": "stdout",
     "output_type": "stream",
     "text": [
      "CLASSIFIACTION REPORT - BAG OF WORDS - TRAINING DATA\n",
      "              precision    recall  f1-score   support\n",
      "\n",
      "           0       0.98      1.00      0.99      3859\n",
      "           1       0.98      0.88      0.93       598\n",
      "\n",
      "    accuracy                           0.98      4457\n",
      "   macro avg       0.98      0.94      0.96      4457\n",
      "weighted avg       0.98      0.98      0.98      4457\n",
      "\n",
      "0.9406233181174876\n",
      "\n",
      "CLASSIFIACTION REPORT - TFIDF - TRAINING DATA\n",
      "              precision    recall  f1-score   support\n",
      "\n",
      "           0       0.98      1.00      0.99      3859\n",
      "           1       0.97      0.89      0.93       598\n",
      "\n",
      "    accuracy                           0.98      4457\n",
      "   macro avg       0.97      0.94      0.96      4457\n",
      "weighted avg       0.98      0.98      0.98      4457\n",
      "\n",
      "0.9440265166517744\n",
      "\n",
      "CLASSIFIACTION REPORT - BAG OF WORDS - TEST DATA\n",
      "              precision    recall  f1-score   support\n",
      "\n",
      "           0       0.98      0.99      0.98       966\n",
      "           1       0.93      0.85      0.89       149\n",
      "\n",
      "    accuracy                           0.97      1115\n",
      "   macro avg       0.95      0.92      0.94      1115\n",
      "weighted avg       0.97      0.97      0.97      1115\n",
      "\n",
      "0.918160406853141\n",
      "\n",
      "CLASSIFIACTION REPORT - TFIDF - TEST DATA\n",
      "              precision    recall  f1-score   support\n",
      "\n",
      "           0       0.97      1.00      0.98       966\n",
      "           1       0.97      0.83      0.89       149\n",
      "\n",
      "    accuracy                           0.97      1115\n",
      "   macro avg       0.97      0.91      0.94      1115\n",
      "weighted avg       0.97      0.97      0.97      1115\n",
      "\n",
      "0.9106812844776078\n"
     ]
    }
   ],
   "source": [
    "print('CLASSIFIACTION REPORT - BAG OF WORDS - TRAINING DATA')\n",
    "print(classification_report(y_bow_train,adb_pred_bow_tr))\n",
    "print(roc_auc_score(y_bow_train,adb_pred_bow_tr))\n",
    "print()\n",
    "print('CLASSIFIACTION REPORT - TFIDF - TRAINING DATA')\n",
    "print(classification_report(y_tfidf_train,adb_pred_tfidf_tr))\n",
    "print(roc_auc_score(y_tfidf_train,adb_pred_tfidf_tr))\n",
    "print()\n",
    "print('CLASSIFIACTION REPORT - BAG OF WORDS - TEST DATA')\n",
    "print(classification_report(y_bow_test,adb_pred_bow_ts))\n",
    "print(roc_auc_score(y_bow_test,adb_pred_bow_ts))\n",
    "print()\n",
    "print('CLASSIFIACTION REPORT - TFIDF - TEST DATA')\n",
    "print(classification_report(y_tfidf_test,adb_pred_tfidf_ts))\n",
    "print(roc_auc_score(y_tfidf_test,adb_pred_tfidf_ts))"
   ]
  },
  {
   "cell_type": "code",
   "execution_count": 152,
   "metadata": {},
   "outputs": [],
   "source": [
    "# Adaboost\n",
    "xgb_model_bow = xgb.XGBClassifier()\n",
    "xgb_model_tfidf = xgb.XGBClassifier()\n",
    "\n",
    "xgb_model_bow.fit(X_bow_train, y_bow_train)\n",
    "xgb_model_tfidf.fit(X_tfidf_train, y_tfidf_train)\n",
    "\n",
    "#train\n",
    "xgb_pred_bow_tr = xgb_model_bow.predict(X_bow_train)\n",
    "xgb_pred_tfidf_tr = xgb_model_tfidf.predict(X_tfidf_train)\n",
    "\n",
    "#test\n",
    "xgb_pred_bow_ts = xgb_model_bow.predict(X_bow_test)\n",
    "xgb_pred_tfidf_ts = xgb_model_tfidf.predict(X_tfidf_test)"
   ]
  },
  {
   "cell_type": "code",
   "execution_count": 153,
   "metadata": {},
   "outputs": [
    {
     "name": "stdout",
     "output_type": "stream",
     "text": [
      "CLASSIFIACTION REPORT - BAG OF WORDS - TRAINING DATA\n",
      "              precision    recall  f1-score   support\n",
      "\n",
      "           0       0.97      1.00      0.99      3859\n",
      "           1       1.00      0.82      0.90       598\n",
      "\n",
      "    accuracy                           0.98      4457\n",
      "   macro avg       0.99      0.91      0.94      4457\n",
      "weighted avg       0.98      0.98      0.97      4457\n",
      "\n",
      "0.9080267558528428\n",
      "\n",
      "CLASSIFIACTION REPORT - TFIDF - TRAINING DATA\n",
      "              precision    recall  f1-score   support\n",
      "\n",
      "           0       0.98      1.00      0.99      3859\n",
      "           1       1.00      0.84      0.91       598\n",
      "\n",
      "    accuracy                           0.98      4457\n",
      "   macro avg       0.99      0.92      0.95      4457\n",
      "weighted avg       0.98      0.98      0.98      4457\n",
      "\n",
      "0.9186371865794333\n",
      "\n",
      "CLASSIFIACTION REPORT - BAG OF WORDS - TEST DATA\n",
      "              precision    recall  f1-score   support\n",
      "\n",
      "           0       0.97      1.00      0.98       966\n",
      "           1       0.99      0.77      0.87       149\n",
      "\n",
      "    accuracy                           0.97      1115\n",
      "   macro avg       0.98      0.89      0.93      1115\n",
      "weighted avg       0.97      0.97      0.97      1115\n",
      "\n",
      "0.8853884419247711\n",
      "\n",
      "CLASSIFIACTION REPORT - TFIDF - TEST DATA\n",
      "              precision    recall  f1-score   support\n",
      "\n",
      "           0       0.97      1.00      0.98       966\n",
      "           1       0.98      0.79      0.88       149\n",
      "\n",
      "    accuracy                           0.97      1115\n",
      "   macro avg       0.98      0.89      0.93      1115\n",
      "weighted avg       0.97      0.97      0.97      1115\n",
      "\n",
      "0.8949379576750455\n"
     ]
    }
   ],
   "source": [
    "print('CLASSIFIACTION REPORT - BAG OF WORDS - TRAINING DATA')\n",
    "print(classification_report(y_bow_train,xgb_pred_bow_tr))\n",
    "print(roc_auc_score(y_bow_train,xgb_pred_bow_tr))\n",
    "print()\n",
    "print('CLASSIFIACTION REPORT - TFIDF - TRAINING DATA')\n",
    "print(classification_report(y_tfidf_train,xgb_pred_tfidf_tr))\n",
    "print(roc_auc_score(y_tfidf_train,xgb_pred_tfidf_tr))\n",
    "print()\n",
    "print('CLASSIFIACTION REPORT - BAG OF WORDS - TEST DATA')\n",
    "print(classification_report(y_bow_test,xgb_pred_bow_ts))\n",
    "print(roc_auc_score(y_bow_test,xgb_pred_bow_ts))\n",
    "print()\n",
    "print('CLASSIFIACTION REPORT - TFIDF - TEST DATA')\n",
    "print(classification_report(y_tfidf_test,xgb_pred_tfidf_ts))\n",
    "print(roc_auc_score(y_tfidf_test,xgb_pred_tfidf_ts))"
   ]
  },
  {
   "cell_type": "code",
   "execution_count": null,
   "metadata": {},
   "outputs": [],
   "source": []
  }
 ],
 "metadata": {
  "kernelspec": {
   "display_name": "Python 3",
   "language": "python",
   "name": "python3"
  },
  "language_info": {
   "codemirror_mode": {
    "name": "ipython",
    "version": 3
   },
   "file_extension": ".py",
   "mimetype": "text/x-python",
   "name": "python",
   "nbconvert_exporter": "python",
   "pygments_lexer": "ipython3",
   "version": "3.7.3"
  }
 },
 "nbformat": 4,
 "nbformat_minor": 2
}
